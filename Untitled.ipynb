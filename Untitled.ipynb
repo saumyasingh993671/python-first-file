{
 "cells": [
  {
   "cell_type": "code",
   "execution_count": null,
   "id": "4654c6bc",
   "metadata": {},
   "outputs": [],
   "source": [
    "#content\n",
    ">  type conversion\n",
    ">  string \n",
    "    > operation in string\n",
    "    > methods in string\n",
    "    > formatting in string\n",
    ">  list\n",
    "    > operation in list \n",
    "    > methods in list\n",
    ">numpy\n",
    "    >ndarray\n",
    "    >datatype\n",
    "    "
   ]
  },
  {
   "cell_type": "code",
   "execution_count": 38,
   "id": "3306496b",
   "metadata": {},
   "outputs": [
    {
     "name": "stdout",
     "output_type": "stream",
     "text": [
      "5\n",
      "3\n",
      "4.0\n",
      "True\n"
     ]
    },
    {
     "data": {
      "text/plain": [
       "bool"
      ]
     },
     "execution_count": 38,
     "metadata": {},
     "output_type": "execute_result"
    }
   ],
   "source": [
    "#type conversion in python\n",
    "\n",
    "string=str(5)   #integer to string\n",
    "print(string)\n",
    "type(string)\n",
    "\n",
    "integer=int(3.31)  #float to string\n",
    "print(integer)\n",
    "type(integer)\n",
    "\n",
    "floating=float(4)\n",
    "print(floating)\n",
    "type(floating)\n",
    "\n",
    "boolean=bool(78)\n",
    "print(boolean)\n",
    "type(boolean)"
   ]
  },
  {
   "cell_type": "code",
   "execution_count": 5,
   "id": "2a423fde",
   "metadata": {},
   "outputs": [
    {
     "name": "stdout",
     "output_type": "stream",
     "text": [
      "thisstringawesome\n"
     ]
    }
   ],
   "source": [
    "#string in python\n",
    "mystring='thisstringawesome'\n",
    "print(mystring)"
   ]
  },
  {
   "cell_type": "code",
   "execution_count": 6,
   "id": "06e3e1d3",
   "metadata": {},
   "outputs": [
    {
     "name": "stdout",
     "output_type": "stream",
     "text": [
      "concatination of two string hello world\n",
      "thisstringawesomethisstringawesome\n",
      "length of a string 12\n",
      "index of zero of str1 h\n",
      "index of two of str1 l\n",
      "hello world\n",
      "hello world\n",
      "world\n",
      "hello worl\n",
      "python programming\n",
      "    PYTHON PROGRAMMING    \n",
      "    python programming    \n",
      "    python code    \n",
      "False\n",
      "False\n",
      "['python', 'programming']\n",
      "h e l l o   w o r l d\n",
      "1\n",
      "My name is saumya and I am 22 year old\n",
      "My name is saumya and I am 22 year old\n",
      "My name is saumya and i am 22 year old\n"
     ]
    }
   ],
   "source": [
    "#operation on string\n",
    "\n",
    "#string concatenation\n",
    "str1=\"hello\"\n",
    "str2=\"world\"\n",
    "result=str1+\" \"+str2\n",
    "print(\"concatination of two string\",result)\n",
    "\n",
    "#string repetition\n",
    "print(mystring*2)\n",
    "\n",
    "#length of string including its space\n",
    "length=\"helllo world\"\n",
    "print(\"length of a string\",len(length))\n",
    "\n",
    "#indexing and slicing\n",
    "#indexing - the process of collecting individual character or elements in sequence such as string ,list and other objects\n",
    "print(\"index of zero of str1\",str1[0])\n",
    "print(\"index of two of str1\",str1[2])\n",
    "#slicing -extration a portion in a sequence\n",
    "print(result[:])\n",
    "print(result[0:11])\n",
    "print(result[6:])\n",
    "print(result[:-1])\n",
    "\n",
    "#strip method- removing leading (starting) and trailing (ending) whitespaces but not in between whitespaces\n",
    "text=\"    python programming    \"\n",
    "print(text.strip())\n",
    "#converting lower case into upper case \n",
    "print(text.upper())\n",
    "print(text.lower())\n",
    "#replace one string to another string\n",
    "print(text.replace(\"programming\",\"code\"))\n",
    "#check if string start and end with specific substring\n",
    "print(text.startswith(\"python\"))\n",
    "print(text.endswith(\"ing\"))\n",
    "#split the string into substring based on delemeter\n",
    "print(text.split())\n",
    "#join a list of string into a single string using delemiter\n",
    "sentence=\" \".join(result)\n",
    "print(sentence)\n",
    "#count -count the element of string\n",
    "print(str2.count('l'))\n",
    "\n",
    "#string formatting-process of creating formating string incoperation with variable expression, values etc\n",
    "name=\"saumya\"\n",
    "age=22\n",
    "message=f\"My name is {name} and I am {age} year old\"\n",
    "print(message)\n",
    "print(\"My name is {} and I am {} year old\".format(name,age))\n",
    "print(\"My name is %s and i am %d year old\" %(name,age))"
   ]
  },
  {
   "cell_type": "code",
   "execution_count": 18,
   "id": "694c187a",
   "metadata": {},
   "outputs": [
    {
     "name": "stdout",
     "output_type": "stream",
     "text": [
      "my\n",
      "list\n",
      "6\n",
      "list\n",
      "list\n",
      "['list', 'is']\n",
      "['list', 'is', 'nice']\n",
      "['my', 'list', 'is']\n",
      "['my', 'list', 'is', 'nice']\n",
      "['nice', 'is', 'list', 'my']\n",
      "3\n",
      "[3, 4]\n"
     ]
    }
   ],
   "source": [
    "#list in python\n",
    "a='is'\n",
    "b='nice'\n",
    "my_list=['my','list',a,b]\n",
    "my_list2=[[4,5,6,7],[3,4,5,6]]\n",
    "\n",
    "#accessing the element of list\n",
    "print(my_list[0])\n",
    "print(my_list[1])\n",
    "print(my_list2[0][2])\n",
    "\n",
    "#selecting list item\n",
    "\n",
    "#subset\n",
    "print(my_list[1])   #select item at index 1\n",
    "print(my_list[-3])   #selsect 3rd last item\n",
    "\n",
    "#slice  my_list[start:stop:step]  \n",
    "print(my_list[1:3])   #select item at index 1 and 2\n",
    "print(my_list[1:])    #select item after index 0\n",
    "print(my_list[:3])    #select  item before index 3\n",
    "print(my_list[:])     #copy my_list\n",
    "print(my_list[::-1])  #revering a list in python\n",
    "\n",
    "#sublist of list-is the portion of list that you extract from a specific range of indexes\n",
    "print(my_list2[1][0])\n",
    "print(my_list2[1][:2])\n"
   ]
  },
  {
   "cell_type": "code",
   "execution_count": 9,
   "id": "2a893873",
   "metadata": {},
   "outputs": [
    {
     "name": "stdout",
     "output_type": "stream",
     "text": [
      "['my', 'list', 'is', 'nice', [4, 5, 6, 7], [3, 4, 5, 6]]\n",
      "['my', 'list', 'is', 'nice', 'my', 'list', 'is', 'nice']\n",
      "my\n",
      "list\n",
      "is\n",
      "nice\n",
      "True\n",
      "False\n",
      "4\n"
     ]
    }
   ],
   "source": [
    "a='is'\n",
    "b='nice'\n",
    "my_list=['my','list',a,b]\n",
    "my_list2=[[4,5,6,7],[3,4,5,6]]\n",
    "#operation in list\n",
    "#concatination\n",
    "print(my_list+my_list2)\n",
    "\n",
    "#repitition in python\n",
    "print(my_list*2)\n",
    "\n",
    "#iteration in list\n",
    "for i in my_list:\n",
    "    print(i)\n",
    "\n",
    "#membership in list\n",
    "print('is' in my_list)\n",
    "print(3444 in my_list)\n",
    "\n",
    "#length of list\n",
    "print(len(my_list))"
   ]
  },
  {
   "cell_type": "code",
   "execution_count": 37,
   "id": "1c63dad8",
   "metadata": {},
   "outputs": [
    {
     "name": "stdout",
     "output_type": "stream",
     "text": [
      "['my', 'list', 'is', 'nice']\n",
      "['my', 'list', 'is', 'nice', [4, 5, 6, 7], [3, 4, 5, 6]]\n",
      "['my', 54, 'list', 'is', 'nice', [4, 5, 6, 7], [3, 4, 5, 6], 54]\n",
      "['my', 'list', 'is', 'nice', [4, 5, 6, 7], [3, 4, 5, 6], 54]\n",
      "['my', 'list', 'is', 'nice', [3, 4, 5, 6], 54]\n",
      "['my', 'list', 'is', 'nice', [3, 4, 5, 6]]\n",
      "2\n",
      "['my', 'list', 34, 'is', 'nice', [3, 4, 5, 6], 34]\n",
      "2\n",
      "[[3, 4, 5, 6], [4, 5, 6, 7]]\n",
      "[34, [3, 4, 5, 6], 'nice', 'is', 34, 'list', 'my']\n"
     ]
    }
   ],
   "source": [
    "a='is'\n",
    "b='nice'\n",
    "my_list=['my','list',a,b]\n",
    "my_list2=[[4,5,6,7],[3,4,5,6]]\n",
    "#methods in list\n",
    "\n",
    "#append method-add single element to the end of list\n",
    "#my_list.append(34)\n",
    "print(my_list)\n",
    "\n",
    "#extend -add another list to the existent list at the end of the current list\n",
    "my_list.extend(my_list2)\n",
    "print(my_list)\n",
    "\n",
    "#insert- add element in list at specific position\n",
    "my_list.insert(6,54) \n",
    "my_list.insert(1,54) #insert  54 element at index 1\n",
    "print(my_list)\n",
    "\n",
    "#remove- remove first occurence of a specific element in list\n",
    "my_list.remove(54)\n",
    "print(my_list)\n",
    "\n",
    "#pop-remove and return an element at specific index .if index is not specified then it remove the element of list from last\n",
    "my_list.pop(4)         #pop the 4th index of element from the list\n",
    "print(my_list)\n",
    "my_list.pop()          #pop the last element of the list\n",
    "print(my_list)\n",
    "\n",
    "#index-return the first index of occurence of the specific element \n",
    "my_list.append(34)\n",
    "my_list.insert(2,34)\n",
    "print(my_list.index(34))    #get the index of an item\n",
    "print(my_list)\n",
    "\n",
    "#count-return the number of occurence of the specified element in the list\n",
    "print(my_list.count(34))     #count an item\n",
    "\n",
    "#sort-sort the list in ascending order\n",
    "my_list2.sort()\n",
    "print(my_list2)\n",
    "\n",
    "#reverse-reverse the order of element in the list\n",
    "my_list.reverse()\n",
    "print(my_list)\n",
    "\n",
    "\n",
    "\n"
   ]
  },
  {
   "cell_type": "code",
   "execution_count": 59,
   "id": "5e95241a",
   "metadata": {},
   "outputs": [
    {
     "name": "stdout",
     "output_type": "stream",
     "text": [
      "[[2 3 4 5]\n",
      " [6 7 8 9]\n",
      " [9 7 5 4]]\n",
      "2\n",
      "Eaxh item contain 4 bytes\n",
      "Each item is of type int32\n",
      "array size 12\n",
      "array shape (3, 4)\n",
      "printing original array [[2 3 4 5]\n",
      " [6 7 8 9]\n",
      " [9 7 5 4]]\n",
      "Printing the reshaped array [[2 3]\n",
      " [4 5]\n",
      " [6 7]\n",
      " [8 9]\n",
      " [9 7]\n",
      " [5 4]]\n",
      "[[2 3 4 5]\n",
      " [6 7 8 9]\n",
      " [9 7 5 4]]\n",
      "4\n",
      "[ 4.          5.33333333  6.66666667  8.          9.33333333 10.66666667\n",
      " 12.         13.33333333 14.66666667 16.        ]\n"
     ]
    }
   ],
   "source": [
    "#numpy stand for numerical python\n",
    "#it is used for the computational and processing of the multdimentional and single dimentional array element\n",
    "\n",
    "#importing the numpy and create the varable as np to access  the method of numpy\n",
    "import numpy as np\n",
    "\n",
    "#Numpy ndarray -we can define a ndarray as the collection of the data type (dtype) objects.\n",
    "arr=np.array([[2,3,4,5],[6,7,8,9],[9,7,5,4]])\n",
    "print(arr)\n",
    "\n",
    "print(arr.ndim)   #calculate the dimentional of array\n",
    "\n",
    "print(\"Eaxh item contain\",arr.itemsize,\"bytes\")  #return the number of bytes taken by each array element\n",
    "\n",
    "print(\"Each item is of type\",arr.dtype)  #return the type of element it contain\n",
    "\n",
    "print(\"array size\",arr.size)    #return the number of element contain in a row in array\n",
    "\n",
    "print(\"array shape\",arr.shape)   #return the number of rows (3) and number of element contain in row (4) of an array\n",
    "\n",
    "#reshape- changing the rows and column of the multidimentional of array\n",
    "print(\"printing original array\",arr)\n",
    "#first argument return the no. of rows and 2nd return no. of element in each row\n",
    "print(\"Printing the reshaped array\",arr.reshape(6,2))  \n",
    "\n",
    "#slicing in array: extract a range of element of array\n",
    "print(arr)\n",
    "print(arr[0,2])  #return 2nd element from 0th row\n",
    "\n",
    "\n",
    "#linespace-return the evenly spaced value over a given interval\n",
    "arr1=np.linspace(4,16,10) #prints 10 values which are evenly spaced over the given interval 5-15  \n",
    "print(arr1)  \n",
    "\n",
    "#max,min,sum-return the maximum ,minimum and sum of the array element\n",
    "\n",
    "\n",
    "\n",
    "\n",
    "\n"
   ]
  },
  {
   "cell_type": "code",
   "execution_count": null,
   "id": "13f9e7c5",
   "metadata": {},
   "outputs": [],
   "source": []
  }
 ],
 "metadata": {
  "kernelspec": {
   "display_name": "Python 3 (ipykernel)",
   "language": "python",
   "name": "python3"
  },
  "language_info": {
   "codemirror_mode": {
    "name": "ipython",
    "version": 3
   },
   "file_extension": ".py",
   "mimetype": "text/x-python",
   "name": "python",
   "nbconvert_exporter": "python",
   "pygments_lexer": "ipython3",
   "version": "3.10.9"
  }
 },
 "nbformat": 4,
 "nbformat_minor": 5
}
